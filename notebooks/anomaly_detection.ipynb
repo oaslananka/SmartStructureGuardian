{
 "cells": [
  {
   "cell_type": "markdown",
   "metadata": {},
   "source": [
    "# Anomaly Detection\n",
    "This notebook demonstrates how to detect anomalies in the sensor data using a trained model."
   ]
  },
  {
   "cell_type": "code",
   "execution_count": null,
   "metadata": {},
   "outputs": [],
   "source": [
    "import pandas as pd\n",
    "from sklearn.ensemble import IsolationForest\n",
    "import joblib\n",
    "\n",
    "def train_anomaly_detection_model(data, model_path):\n",
    "    \"\"\"\n",
    "    Trains an Isolation Forest model for anomaly detection.\n",
    "    \n",
    "    Parameters:\n",
    "        data (pd.DataFrame): The preprocessed sensor data.\n",
    "        model_path (str): Path to save the trained model.\n",
    "    \n",
    "    Returns:\n",
    "        IsolationForest: The trained Isolation Forest model.\n",
    "    \"\"\"\n",
    "    # Split the data into training and test sets\n",
    "    X_train = data[['vibration', 'stress', 'temperature']]\n",
    "    \n",
    "    # Initialize and train the Isolation Forest model\n",
    "    model = IsolationForest(contamination=0.05, random_state=42)\n",
    "    model.fit(X_train)\n",
    "    \n",
    "    # Save the trained model\n",
    "    joblib.dump(model, model_path)\n",
    "    \n",
    "    return model\n",
    "\n",
    "def detect_anomalies(data, model_path):\n",
    "    \"\"\"\n",
    "    Detects anomalies in the sensor data using the trained model.\n",
    "    \n",
    "    Parameters:\n",
    "        data (pd.DataFrame): The preprocessed sensor data.\n",
    "        model_path (str): Path to the trained model.\n",
    "    \n",
    "    Returns:\n",
    "        pd.DataFrame: A DataFrame containing the sensor data with anomaly labels.\n",
    "    \"\"\"\n",
    "    # Load the trained model\n",
    "    model = joblib.load(model_path)\n",
    "    \n",
    "    # Predict anomalies\n",
    "    data['anomaly'] = model.predict(data[['vibration', 'stress', 'temperature']])\n",
    "    \n",
    "    return data\n",
    "\n",
    "# File path to the preprocessed sensor data\n",
    "file_path = '../data/processed/preprocessed_sensor_data.csv'\n",
    "\n",
    "# Load the preprocessed data\n",
    "preprocessed_data = pd.read_csv(file_path)\n",
    "\n",
    "# Path to save the trained model\n",
    "model_path = '../models/anomaly_detection_model.pkl'\n",
    "\n",
    "# Train the anomaly detection model\n",
    "model = train_anomaly_detection_model(preprocessed_data, model_path)\n",
    "\n",
    "print(f\"Anomaly detection model trained and saved to '{model_path}'\")\n",
    "\n",
    "# Detect anomalies\n",
    "anomaly_data = detect_anomalies(preprocessed_data, model_path)\n",
    "\n",
    "# Save the data with anomaly labels to a CSV file\n",
    "anomaly_data.to_csv('../outputs/reports/anomaly_detection_results.csv', index=False)\n",
    "\n",
    "print(\"Anomaly detection results saved to '../outputs/reports/anomaly_detection_results.csv'\")"
   ]
  }
 ],
 "metadata": {
  "kernelspec": {
   "display_name": "Python 3",
   "language": "python",
   "name": "python3"
  },
  "language_info": {
   "name": "python",
   "version": "3.8.5",
   "mimetype": "text/x-python",
   "codemirror_mode": {
    "name": "ipython",
    "version": 3
   },
   "pygments_lexer": "ipython3",
   "nbconvert_exporter": "python",
   "file_extension": ".py"
  }
 },
 "nbformat": 4,
 "nbformat_minor": 4
}
