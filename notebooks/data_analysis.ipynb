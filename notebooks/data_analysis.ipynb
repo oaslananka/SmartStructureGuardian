{
 "cells": [
  {
   "cell_type": "markdown",
   "metadata": {},
   "source": [
    "# Data Preprocessing and Analysis\n",
    "This notebook demonstrates how to preprocess and analyze the simulated sensor data."
   ]
  },
  {
   "cell_type": "code",
   "execution_count": null,
   "metadata": {},
   "outputs": [],
   "source": [
    "import pandas as pd\n",
    "from sklearn.preprocessing import StandardScaler\n",
    "\n",
    "def preprocess_data(file_path):\n",
    "    \"\"\"\n",
    "    Preprocesses sensor data by filling missing values and normalizing the data.\n",
    "    \n",
    "    Parameters:\n",
    "        file_path (str): Path to the CSV file containing the sensor data.\n",
    "    \n",
    "    Returns:\n",
    "        pd.DataFrame: A DataFrame containing the preprocessed sensor data.\n",
    "    \"\"\"\n",
    "    # Load the sensor data\n",
    "    df = pd.read_csv(file_path)\n",
    "    \n",
    "    # Fill missing values with the mean of each column\n",
    "    df.fillna(df.mean(), inplace=True)\n",
    "    \n",
    "    # Normalize the data\n",
    "    scaler = StandardScaler()\n",
    "    scaled_data = scaler.fit_transform(df[['vibration', 'stress', 'temperature']])\n",
    "    \n",
    "    # Convert the normalized data back to a DataFrame\n",
    "    normalized_df = pd.DataFrame(scaled_data, columns=['vibration', 'stress', 'temperature'])\n",
    "    \n",
    "    # Add the sensor_id and position columns back to the DataFrame\n",
    "    normalized_df['sensor_id'] = df['sensor_id']\n",
    "    normalized_df['position_x'] = df['position_x']\n",
    "    normalized_df['position_y'] = df['position_y']\n",
    "    \n",
    "    return normalized_df\n",
    "\n",
    "# File path to the simulated sensor data\n",
    "file_path = '../data/raw/simulated_sensor_data.csv'\n",
    "\n",
    "# Preprocess the data\n",
    "preprocessed_data = preprocess_data(file_path)\n",
    "\n",
    "# Save the preprocessed data to a CSV file\n",
    "preprocessed_data.to_csv('../data/processed/preprocessed_sensor_data.csv', index=False)\n",
    "\n",
    "print(\"Preprocessed sensor data saved to '../data/processed/preprocessed_sensor_data.csv'\")"
   ]
  }
 ],
 "metadata": {
  "kernelspec": {
   "display_name": "Python 3",
   "language": "python",
   "name": "python3"
  },
  "language_info": {
   "name": "python",
   "version": "3.8.5",
   "mimetype": "text/x-python",
   "codemirror_mode": {
    "name": "ipython",
    "version": 3
   },
   "pygments_lexer": "ipython3",
   "nbconvert_exporter": "python",
   "file_extension": ".py"
  }
 },
 "nbformat": 4,
 "nbformat_minor": 4
}
