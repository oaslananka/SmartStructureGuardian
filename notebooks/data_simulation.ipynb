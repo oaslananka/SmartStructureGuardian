{
 "cells": [
  {
   "cell_type": "markdown",
   "metadata": {},
   "source": [
    "# Sensor Data Simulation\n",
    "This notebook demonstrates how to simulate sensor data for a bridge structure."
   ]
  },
  {
   "cell_type": "code",
   "execution_count": null,
   "metadata": {},
   "outputs": [],
   "source": [
    "import numpy as np\n",
    "import pandas as pd\n",
    "\n",
    "def generate_sensor_data(num_sensors, num_samples):\n",
    "    \"\"\"\n",
    "    Generates simulated sensor data for a given number of sensors and samples.\n",
    "    \n",
    "    Parameters:\n",
    "        num_sensors (int): Number of sensors.\n",
    "        num_samples (int): Number of samples for each sensor.\n",
    "    \n",
    "    Returns:\n",
    "        pd.DataFrame: A DataFrame containing the simulated sensor data.\n",
    "    \"\"\"\n",
    "    data = {\n",
    "        'sensor_id': [],\n",
    "        'position_x': [],\n",
    "        'position_y': [],\n",
    "        'vibration': [],\n",
    "        'stress': [],\n",
    "        'temperature': []\n",
    "    }\n",
    "    \n",
    "    # Sensor positions (for demonstration purposes, we place them linearly along the bridge)\n",
    "    sensor_positions = np.linspace(0, 100, num_sensors)\n",
    "    \n",
    "    for i in range(num_sensors):\n",
    "        for _ in range(num_samples):\n",
    "            data['sensor_id'].append(i + 1)\n",
    "            data['position_x'].append(sensor_positions[i])\n",
    "            data['position_y'].append(5)  # Assuming all sensors are at the same width position\n",
    "            \n",
    "            # Simulating sensor data with normal distribution\n",
    "            data['vibration'].append(np.random.normal(loc=0, scale=0.5))\n",
    "            data['stress'].append(np.random.normal(loc=0, scale=1.0))\n",
    "            data['temperature'].append(np.random.normal(loc=25, scale=5))\n",
    "    \n",
    "    return pd.DataFrame(data)\n",
    "\n",
    "# Number of sensors and samples\n",
    "num_sensors = 10\n",
    "num_samples = 100\n",
    "\n",
    "# Generate simulated data\n",
    "sensor_data = generate_sensor_data(num_sensors, num_samples)\n",
    "\n",
    "# Save the simulated data to a CSV file\n",
    "sensor_data.to_csv('../data/raw/simulated_sensor_data.csv', index=False)\n",
    "\n",
    "print(\"Simulated sensor data generated and saved to '../data/raw/simulated_sensor_data.csv'\")"
   ]
  }
 ],
 "metadata": {
  "kernelspec": {
   "display_name": "Python 3",
   "language": "python",
   "name": "python3"
  },
  "language_info": {
   "name": "python",
   "version": "3.8.5",
   "mimetype": "text/x-python",
   "codemirror_mode": {
    "name": "ipython",
    "version": 3
   },
   "pygments_lexer": "ipython3",
   "nbconvert_exporter": "python",
   "file_extension": ".py"
  }
 },
 "nbformat": 4,
 "nbformat_minor": 4
}
